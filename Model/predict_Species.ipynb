{
 "cells": [
  {
   "cell_type": "markdown",
   "metadata": {},
   "source": [
    "### Notes: \n",
    "* Check for Normal Distribution -  StandardScaler\n",
    "* Outliers -choose SVC, Decision Tree or Random Forest\n",
    "* Correlation between features - remove flavor \n",
    "* Correlation between any features and label\n",
    "* Imbalanced Dataset - SMOTE"
   ]
  },
  {
   "cell_type": "code",
   "execution_count": 1,
   "metadata": {
    "ExecuteTime": {
     "end_time": "2021-02-24T14:49:45.630716Z",
     "start_time": "2021-02-24T14:49:44.108720Z"
    }
   },
   "outputs": [],
   "source": [
    "import pandas as pd\n",
    "import matplotlib.pyplot as plt\n",
    "import seaborn as sns\n",
    "%matplotlib inline"
   ]
  },
  {
   "cell_type": "markdown",
   "metadata": {},
   "source": [
    "## Data Cleaning"
   ]
  },
  {
   "cell_type": "code",
   "execution_count": 2,
   "metadata": {
    "ExecuteTime": {
     "end_time": "2021-02-24T14:49:45.694733Z",
     "start_time": "2021-02-24T14:49:45.632728Z"
    }
   },
   "outputs": [
    {
     "data": {
      "text/html": [
       "<div>\n",
       "<style scoped>\n",
       "    .dataframe tbody tr th:only-of-type {\n",
       "        vertical-align: middle;\n",
       "    }\n",
       "\n",
       "    .dataframe tbody tr th {\n",
       "        vertical-align: top;\n",
       "    }\n",
       "\n",
       "    .dataframe thead th {\n",
       "        text-align: right;\n",
       "    }\n",
       "</style>\n",
       "<table border=\"1\" class=\"dataframe\">\n",
       "  <thead>\n",
       "    <tr style=\"text-align: right;\">\n",
       "      <th></th>\n",
       "      <th>Unnamed: 0</th>\n",
       "      <th>Species</th>\n",
       "      <th>Owner</th>\n",
       "      <th>Country.of.Origin</th>\n",
       "      <th>Farm.Name</th>\n",
       "      <th>Lot.Number</th>\n",
       "      <th>Mill</th>\n",
       "      <th>ICO.Number</th>\n",
       "      <th>Company</th>\n",
       "      <th>Altitude</th>\n",
       "      <th>...</th>\n",
       "      <th>Color</th>\n",
       "      <th>Category.Two.Defects</th>\n",
       "      <th>Expiration</th>\n",
       "      <th>Certification.Body</th>\n",
       "      <th>Certification.Address</th>\n",
       "      <th>Certification.Contact</th>\n",
       "      <th>unit_of_measurement</th>\n",
       "      <th>altitude_low_meters</th>\n",
       "      <th>altitude_high_meters</th>\n",
       "      <th>altitude_mean_meters</th>\n",
       "    </tr>\n",
       "  </thead>\n",
       "  <tbody>\n",
       "    <tr>\n",
       "      <th>0</th>\n",
       "      <td>0</td>\n",
       "      <td>Arabica</td>\n",
       "      <td>metad plc</td>\n",
       "      <td>Ethiopia</td>\n",
       "      <td>metad plc</td>\n",
       "      <td>NaN</td>\n",
       "      <td>metad plc</td>\n",
       "      <td>2014/2015</td>\n",
       "      <td>metad agricultural developmet plc</td>\n",
       "      <td>1950-2200</td>\n",
       "      <td>...</td>\n",
       "      <td>Green</td>\n",
       "      <td>0</td>\n",
       "      <td>April 3rd, 2016</td>\n",
       "      <td>METAD Agricultural Development plc</td>\n",
       "      <td>309fcf77415a3661ae83e027f7e5f05dad786e44</td>\n",
       "      <td>19fef5a731de2db57d16da10287413f5f99bc2dd</td>\n",
       "      <td>m</td>\n",
       "      <td>1950.0</td>\n",
       "      <td>2200.0</td>\n",
       "      <td>2075.0</td>\n",
       "    </tr>\n",
       "    <tr>\n",
       "      <th>1</th>\n",
       "      <td>1</td>\n",
       "      <td>Arabica</td>\n",
       "      <td>metad plc</td>\n",
       "      <td>Ethiopia</td>\n",
       "      <td>metad plc</td>\n",
       "      <td>NaN</td>\n",
       "      <td>metad plc</td>\n",
       "      <td>2014/2015</td>\n",
       "      <td>metad agricultural developmet plc</td>\n",
       "      <td>1950-2200</td>\n",
       "      <td>...</td>\n",
       "      <td>Green</td>\n",
       "      <td>1</td>\n",
       "      <td>April 3rd, 2016</td>\n",
       "      <td>METAD Agricultural Development plc</td>\n",
       "      <td>309fcf77415a3661ae83e027f7e5f05dad786e44</td>\n",
       "      <td>19fef5a731de2db57d16da10287413f5f99bc2dd</td>\n",
       "      <td>m</td>\n",
       "      <td>1950.0</td>\n",
       "      <td>2200.0</td>\n",
       "      <td>2075.0</td>\n",
       "    </tr>\n",
       "    <tr>\n",
       "      <th>2</th>\n",
       "      <td>2</td>\n",
       "      <td>Arabica</td>\n",
       "      <td>grounds for health admin</td>\n",
       "      <td>Guatemala</td>\n",
       "      <td>san marcos barrancas \"san cristobal cuch</td>\n",
       "      <td>NaN</td>\n",
       "      <td>NaN</td>\n",
       "      <td>NaN</td>\n",
       "      <td>NaN</td>\n",
       "      <td>1600 - 1800 m</td>\n",
       "      <td>...</td>\n",
       "      <td>NaN</td>\n",
       "      <td>0</td>\n",
       "      <td>May 31st, 2011</td>\n",
       "      <td>Specialty Coffee Association</td>\n",
       "      <td>36d0d00a3724338ba7937c52a378d085f2172daa</td>\n",
       "      <td>0878a7d4b9d35ddbf0fe2ce69a2062cceb45a660</td>\n",
       "      <td>m</td>\n",
       "      <td>1600.0</td>\n",
       "      <td>1800.0</td>\n",
       "      <td>1700.0</td>\n",
       "    </tr>\n",
       "    <tr>\n",
       "      <th>3</th>\n",
       "      <td>3</td>\n",
       "      <td>Arabica</td>\n",
       "      <td>yidnekachew dabessa</td>\n",
       "      <td>Ethiopia</td>\n",
       "      <td>yidnekachew dabessa coffee plantation</td>\n",
       "      <td>NaN</td>\n",
       "      <td>wolensu</td>\n",
       "      <td>NaN</td>\n",
       "      <td>yidnekachew debessa coffee plantation</td>\n",
       "      <td>1800-2200</td>\n",
       "      <td>...</td>\n",
       "      <td>Green</td>\n",
       "      <td>2</td>\n",
       "      <td>March 25th, 2016</td>\n",
       "      <td>METAD Agricultural Development plc</td>\n",
       "      <td>309fcf77415a3661ae83e027f7e5f05dad786e44</td>\n",
       "      <td>19fef5a731de2db57d16da10287413f5f99bc2dd</td>\n",
       "      <td>m</td>\n",
       "      <td>1800.0</td>\n",
       "      <td>2200.0</td>\n",
       "      <td>2000.0</td>\n",
       "    </tr>\n",
       "    <tr>\n",
       "      <th>4</th>\n",
       "      <td>4</td>\n",
       "      <td>Arabica</td>\n",
       "      <td>metad plc</td>\n",
       "      <td>Ethiopia</td>\n",
       "      <td>metad plc</td>\n",
       "      <td>NaN</td>\n",
       "      <td>metad plc</td>\n",
       "      <td>2014/2015</td>\n",
       "      <td>metad agricultural developmet plc</td>\n",
       "      <td>1950-2200</td>\n",
       "      <td>...</td>\n",
       "      <td>Green</td>\n",
       "      <td>2</td>\n",
       "      <td>April 3rd, 2016</td>\n",
       "      <td>METAD Agricultural Development plc</td>\n",
       "      <td>309fcf77415a3661ae83e027f7e5f05dad786e44</td>\n",
       "      <td>19fef5a731de2db57d16da10287413f5f99bc2dd</td>\n",
       "      <td>m</td>\n",
       "      <td>1950.0</td>\n",
       "      <td>2200.0</td>\n",
       "      <td>2075.0</td>\n",
       "    </tr>\n",
       "  </tbody>\n",
       "</table>\n",
       "<p>5 rows × 44 columns</p>\n",
       "</div>"
      ],
      "text/plain": [
       "   Unnamed: 0  Species                     Owner Country.of.Origin  \\\n",
       "0           0  Arabica                 metad plc          Ethiopia   \n",
       "1           1  Arabica                 metad plc          Ethiopia   \n",
       "2           2  Arabica  grounds for health admin         Guatemala   \n",
       "3           3  Arabica       yidnekachew dabessa          Ethiopia   \n",
       "4           4  Arabica                 metad plc          Ethiopia   \n",
       "\n",
       "                                  Farm.Name Lot.Number       Mill ICO.Number  \\\n",
       "0                                 metad plc        NaN  metad plc  2014/2015   \n",
       "1                                 metad plc        NaN  metad plc  2014/2015   \n",
       "2  san marcos barrancas \"san cristobal cuch        NaN        NaN        NaN   \n",
       "3     yidnekachew dabessa coffee plantation        NaN    wolensu        NaN   \n",
       "4                                 metad plc        NaN  metad plc  2014/2015   \n",
       "\n",
       "                                 Company       Altitude  ...  Color  \\\n",
       "0      metad agricultural developmet plc      1950-2200  ...  Green   \n",
       "1      metad agricultural developmet plc      1950-2200  ...  Green   \n",
       "2                                    NaN  1600 - 1800 m  ...    NaN   \n",
       "3  yidnekachew debessa coffee plantation      1800-2200  ...  Green   \n",
       "4      metad agricultural developmet plc      1950-2200  ...  Green   \n",
       "\n",
       "  Category.Two.Defects        Expiration                  Certification.Body  \\\n",
       "0                    0   April 3rd, 2016  METAD Agricultural Development plc   \n",
       "1                    1   April 3rd, 2016  METAD Agricultural Development plc   \n",
       "2                    0    May 31st, 2011        Specialty Coffee Association   \n",
       "3                    2  March 25th, 2016  METAD Agricultural Development plc   \n",
       "4                    2   April 3rd, 2016  METAD Agricultural Development plc   \n",
       "\n",
       "                      Certification.Address  \\\n",
       "0  309fcf77415a3661ae83e027f7e5f05dad786e44   \n",
       "1  309fcf77415a3661ae83e027f7e5f05dad786e44   \n",
       "2  36d0d00a3724338ba7937c52a378d085f2172daa   \n",
       "3  309fcf77415a3661ae83e027f7e5f05dad786e44   \n",
       "4  309fcf77415a3661ae83e027f7e5f05dad786e44   \n",
       "\n",
       "                      Certification.Contact unit_of_measurement  \\\n",
       "0  19fef5a731de2db57d16da10287413f5f99bc2dd                   m   \n",
       "1  19fef5a731de2db57d16da10287413f5f99bc2dd                   m   \n",
       "2  0878a7d4b9d35ddbf0fe2ce69a2062cceb45a660                   m   \n",
       "3  19fef5a731de2db57d16da10287413f5f99bc2dd                   m   \n",
       "4  19fef5a731de2db57d16da10287413f5f99bc2dd                   m   \n",
       "\n",
       "  altitude_low_meters altitude_high_meters altitude_mean_meters  \n",
       "0              1950.0               2200.0               2075.0  \n",
       "1              1950.0               2200.0               2075.0  \n",
       "2              1600.0               1800.0               1700.0  \n",
       "3              1800.0               2200.0               2000.0  \n",
       "4              1950.0               2200.0               2075.0  \n",
       "\n",
       "[5 rows x 44 columns]"
      ]
     },
     "execution_count": 2,
     "metadata": {},
     "output_type": "execute_result"
    }
   ],
   "source": [
    "# Reading merged data Arabica 98% and Robusta 2% of records\n",
    "df_quality = pd.read_csv(\"data/merged_data_cleaned.csv\")\n",
    "df_quality.head()"
   ]
  },
  {
   "cell_type": "code",
   "execution_count": 3,
   "metadata": {
    "ExecuteTime": {
     "end_time": "2021-02-24T14:49:46.418726Z",
     "start_time": "2021-02-24T14:49:45.696727Z"
    }
   },
   "outputs": [],
   "source": [
    "################### Quality Measures - Features ####################\n",
    "# Aroma\n",
    "# Flavor\n",
    "# Aftertaste\n",
    "# Acidity\n",
    "# Body\n",
    "# Balance\n",
    "# Uniformity\n",
    "# Cup Cleanliness\n",
    "# Sweetness\n",
    "# Moisture\n",
    "# Defects\n",
    "################### Bean Metadata - Labels ####################\n",
    "# Species (arabica / robusta)\n",
    "\n",
    "df_quality = df_quality[['Species', 'Aroma', 'Flavor', 'Aftertaste', 'Acidity', \n",
    "                         'Body', 'Balance', 'Uniformity', 'Clean.Cup', 'Sweetness',\n",
    "                         'Moisture', 'Category.One.Defects', 'Category.Two.Defects']]"
   ]
  },
  {
   "cell_type": "code",
   "execution_count": 4,
   "metadata": {
    "ExecuteTime": {
     "end_time": "2021-02-24T14:49:46.841555Z",
     "start_time": "2021-02-24T14:49:46.420707Z"
    },
    "scrolled": true
   },
   "outputs": [
    {
     "data": {
      "text/plain": [
       "Species                 0\n",
       "Aroma                   0\n",
       "Flavor                  0\n",
       "Aftertaste              0\n",
       "Acidity                 0\n",
       "Body                    0\n",
       "Balance                 0\n",
       "Uniformity              0\n",
       "Clean.Cup               0\n",
       "Sweetness               0\n",
       "Moisture                0\n",
       "Category.One.Defects    0\n",
       "Category.Two.Defects    0\n",
       "dtype: int64"
      ]
     },
     "execution_count": 4,
     "metadata": {},
     "output_type": "execute_result"
    }
   ],
   "source": [
    "# check for null values in data\n",
    "df_quality.isnull().sum()"
   ]
  },
  {
   "cell_type": "code",
   "execution_count": 5,
   "metadata": {
    "ExecuteTime": {
     "end_time": "2021-02-24T14:49:47.327605Z",
     "start_time": "2021-02-24T14:49:46.842543Z"
    },
    "scrolled": true
   },
   "outputs": [
    {
     "data": {
      "text/html": [
       "<div>\n",
       "<style scoped>\n",
       "    .dataframe tbody tr th:only-of-type {\n",
       "        vertical-align: middle;\n",
       "    }\n",
       "\n",
       "    .dataframe tbody tr th {\n",
       "        vertical-align: top;\n",
       "    }\n",
       "\n",
       "    .dataframe thead th {\n",
       "        text-align: right;\n",
       "    }\n",
       "</style>\n",
       "<table border=\"1\" class=\"dataframe\">\n",
       "  <thead>\n",
       "    <tr style=\"text-align: right;\">\n",
       "      <th></th>\n",
       "      <th>Aroma</th>\n",
       "      <th>Flavor</th>\n",
       "      <th>Aftertaste</th>\n",
       "      <th>Acidity</th>\n",
       "      <th>Body</th>\n",
       "      <th>Balance</th>\n",
       "      <th>Uniformity</th>\n",
       "      <th>Clean.Cup</th>\n",
       "      <th>Sweetness</th>\n",
       "      <th>Moisture</th>\n",
       "      <th>Category.One.Defects</th>\n",
       "      <th>Category.Two.Defects</th>\n",
       "    </tr>\n",
       "  </thead>\n",
       "  <tbody>\n",
       "    <tr>\n",
       "      <th>count</th>\n",
       "      <td>1339.000000</td>\n",
       "      <td>1339.000000</td>\n",
       "      <td>1339.000000</td>\n",
       "      <td>1339.000000</td>\n",
       "      <td>1339.000000</td>\n",
       "      <td>1339.000000</td>\n",
       "      <td>1339.000000</td>\n",
       "      <td>1339.000000</td>\n",
       "      <td>1339.000000</td>\n",
       "      <td>1339.000000</td>\n",
       "      <td>1339.000000</td>\n",
       "      <td>1339.000000</td>\n",
       "    </tr>\n",
       "    <tr>\n",
       "      <th>mean</th>\n",
       "      <td>7.566706</td>\n",
       "      <td>7.520426</td>\n",
       "      <td>7.401083</td>\n",
       "      <td>7.535706</td>\n",
       "      <td>7.517498</td>\n",
       "      <td>7.518013</td>\n",
       "      <td>9.834877</td>\n",
       "      <td>9.835108</td>\n",
       "      <td>9.856692</td>\n",
       "      <td>0.088379</td>\n",
       "      <td>0.479462</td>\n",
       "      <td>3.556385</td>\n",
       "    </tr>\n",
       "    <tr>\n",
       "      <th>std</th>\n",
       "      <td>0.377560</td>\n",
       "      <td>0.398442</td>\n",
       "      <td>0.404463</td>\n",
       "      <td>0.379827</td>\n",
       "      <td>0.370064</td>\n",
       "      <td>0.408943</td>\n",
       "      <td>0.554591</td>\n",
       "      <td>0.763946</td>\n",
       "      <td>0.616102</td>\n",
       "      <td>0.048287</td>\n",
       "      <td>2.549683</td>\n",
       "      <td>5.312541</td>\n",
       "    </tr>\n",
       "    <tr>\n",
       "      <th>min</th>\n",
       "      <td>0.000000</td>\n",
       "      <td>0.000000</td>\n",
       "      <td>0.000000</td>\n",
       "      <td>0.000000</td>\n",
       "      <td>0.000000</td>\n",
       "      <td>0.000000</td>\n",
       "      <td>0.000000</td>\n",
       "      <td>0.000000</td>\n",
       "      <td>0.000000</td>\n",
       "      <td>0.000000</td>\n",
       "      <td>0.000000</td>\n",
       "      <td>0.000000</td>\n",
       "    </tr>\n",
       "    <tr>\n",
       "      <th>25%</th>\n",
       "      <td>7.420000</td>\n",
       "      <td>7.330000</td>\n",
       "      <td>7.250000</td>\n",
       "      <td>7.330000</td>\n",
       "      <td>7.330000</td>\n",
       "      <td>7.330000</td>\n",
       "      <td>10.000000</td>\n",
       "      <td>10.000000</td>\n",
       "      <td>10.000000</td>\n",
       "      <td>0.090000</td>\n",
       "      <td>0.000000</td>\n",
       "      <td>0.000000</td>\n",
       "    </tr>\n",
       "    <tr>\n",
       "      <th>50%</th>\n",
       "      <td>7.580000</td>\n",
       "      <td>7.580000</td>\n",
       "      <td>7.420000</td>\n",
       "      <td>7.580000</td>\n",
       "      <td>7.500000</td>\n",
       "      <td>7.500000</td>\n",
       "      <td>10.000000</td>\n",
       "      <td>10.000000</td>\n",
       "      <td>10.000000</td>\n",
       "      <td>0.110000</td>\n",
       "      <td>0.000000</td>\n",
       "      <td>2.000000</td>\n",
       "    </tr>\n",
       "    <tr>\n",
       "      <th>75%</th>\n",
       "      <td>7.750000</td>\n",
       "      <td>7.750000</td>\n",
       "      <td>7.580000</td>\n",
       "      <td>7.750000</td>\n",
       "      <td>7.670000</td>\n",
       "      <td>7.750000</td>\n",
       "      <td>10.000000</td>\n",
       "      <td>10.000000</td>\n",
       "      <td>10.000000</td>\n",
       "      <td>0.120000</td>\n",
       "      <td>0.000000</td>\n",
       "      <td>4.000000</td>\n",
       "    </tr>\n",
       "    <tr>\n",
       "      <th>max</th>\n",
       "      <td>8.750000</td>\n",
       "      <td>8.830000</td>\n",
       "      <td>8.670000</td>\n",
       "      <td>8.750000</td>\n",
       "      <td>8.580000</td>\n",
       "      <td>8.750000</td>\n",
       "      <td>10.000000</td>\n",
       "      <td>10.000000</td>\n",
       "      <td>10.000000</td>\n",
       "      <td>0.280000</td>\n",
       "      <td>63.000000</td>\n",
       "      <td>55.000000</td>\n",
       "    </tr>\n",
       "  </tbody>\n",
       "</table>\n",
       "</div>"
      ],
      "text/plain": [
       "             Aroma       Flavor   Aftertaste      Acidity         Body  \\\n",
       "count  1339.000000  1339.000000  1339.000000  1339.000000  1339.000000   \n",
       "mean      7.566706     7.520426     7.401083     7.535706     7.517498   \n",
       "std       0.377560     0.398442     0.404463     0.379827     0.370064   \n",
       "min       0.000000     0.000000     0.000000     0.000000     0.000000   \n",
       "25%       7.420000     7.330000     7.250000     7.330000     7.330000   \n",
       "50%       7.580000     7.580000     7.420000     7.580000     7.500000   \n",
       "75%       7.750000     7.750000     7.580000     7.750000     7.670000   \n",
       "max       8.750000     8.830000     8.670000     8.750000     8.580000   \n",
       "\n",
       "           Balance   Uniformity    Clean.Cup    Sweetness     Moisture  \\\n",
       "count  1339.000000  1339.000000  1339.000000  1339.000000  1339.000000   \n",
       "mean      7.518013     9.834877     9.835108     9.856692     0.088379   \n",
       "std       0.408943     0.554591     0.763946     0.616102     0.048287   \n",
       "min       0.000000     0.000000     0.000000     0.000000     0.000000   \n",
       "25%       7.330000    10.000000    10.000000    10.000000     0.090000   \n",
       "50%       7.500000    10.000000    10.000000    10.000000     0.110000   \n",
       "75%       7.750000    10.000000    10.000000    10.000000     0.120000   \n",
       "max       8.750000    10.000000    10.000000    10.000000     0.280000   \n",
       "\n",
       "       Category.One.Defects  Category.Two.Defects  \n",
       "count           1339.000000           1339.000000  \n",
       "mean               0.479462              3.556385  \n",
       "std                2.549683              5.312541  \n",
       "min                0.000000              0.000000  \n",
       "25%                0.000000              0.000000  \n",
       "50%                0.000000              2.000000  \n",
       "75%                0.000000              4.000000  \n",
       "max               63.000000             55.000000  "
      ]
     },
     "execution_count": 5,
     "metadata": {},
     "output_type": "execute_result"
    }
   ],
   "source": [
    "# Data summary\n",
    "df_quality.describe()"
   ]
  },
  {
   "cell_type": "code",
   "execution_count": 6,
   "metadata": {
    "ExecuteTime": {
     "end_time": "2021-02-24T14:49:47.990318Z",
     "start_time": "2021-02-24T14:49:47.329603Z"
    },
    "scrolled": true
   },
   "outputs": [
    {
     "name": "stderr",
     "output_type": "stream",
     "text": [
      "C:\\Users\\Abraham\\anaconda3\\envs\\envcoffee\\lib\\site-packages\\seaborn\\distributions.py:2551: FutureWarning: `distplot` is a deprecated function and will be removed in a future version. Please adapt your code to use either `displot` (a figure-level function with similar flexibility) or `histplot` (an axes-level function for histograms).\n",
      "  warnings.warn(msg, FutureWarning)\n"
     ]
    },
    {
     "data": {
      "text/plain": [
       "<AxesSubplot:xlabel='Uniformity', ylabel='Density'>"
      ]
     },
     "execution_count": 6,
     "metadata": {},
     "output_type": "execute_result"
    },
    {
     "data": {
      "image/png": "[encoded data removed]",
      "text/plain": [
       "<Figure size 432x288 with 1 Axes>"
      ]
     },
     "metadata": {},
     "output_type": "display_data"
    }
   ],
   "source": [
    "# Checking for Gaussian distribution in data\n",
    "fig = plt.figure()\n",
    "fig.patch.set_facecolor('white')\n",
    "sns.distplot(df_quality['Uniformity'])"
   ]
  },
  {
   "cell_type": "markdown",
   "metadata": {},
   "source": [
    "Data is not fully normaly distributed. There is skewness. Algorithms will perform better with a normalized or scaled dataset."
   ]
  },
  {
   "cell_type": "code",
   "execution_count": 7,
   "metadata": {
    "ExecuteTime": {
     "end_time": "2021-02-24T14:49:48.306337Z",
     "start_time": "2021-02-24T14:49:47.993336Z"
    }
   },
   "outputs": [
    {
     "name": "stderr",
     "output_type": "stream",
     "text": [
      "C:\\Users\\Abraham\\anaconda3\\envs\\envcoffee\\lib\\site-packages\\seaborn\\distributions.py:2551: FutureWarning: `distplot` is a deprecated function and will be removed in a future version. Please adapt your code to use either `displot` (a figure-level function with similar flexibility) or `histplot` (an axes-level function for histograms).\n",
      "  warnings.warn(msg, FutureWarning)\n"
     ]
    },
    {
     "data": {
      "text/plain": [
       "<AxesSubplot:xlabel='Moisture', ylabel='Density'>"
      ]
     },
     "execution_count": 7,
     "metadata": {},
     "output_type": "execute_result"
    },
    {
     "data": {
      "image/png": "[encoded data removed]",
      "text/plain": [
       "<Figure size 432x288 with 1 Axes>"
      ]
     },
     "metadata": {},
     "output_type": "display_data"
    }
   ],
   "source": [
    "fig = plt.figure()\n",
    "fig.patch.set_facecolor('white')\n",
    "sns.distplot(df_quality['Moisture'])"
   ]
  },
  {
   "cell_type": "code",
   "execution_count": 8,
   "metadata": {
    "ExecuteTime": {
     "end_time": "2021-02-24T14:49:48.354318Z",
     "start_time": "2021-02-24T14:49:48.308318Z"
    }
   },
   "outputs": [
    {
     "name": "stdout",
     "output_type": "stream",
     "text": [
      "Lower Bound: 0.015948231896952686\n",
      "Upper Bound: 0.16081054330842445\n"
     ]
    },
    {
     "data": {
      "text/html": [
       "<div>\n",
       "<style scoped>\n",
       "    .dataframe tbody tr th:only-of-type {\n",
       "        vertical-align: middle;\n",
       "    }\n",
       "\n",
       "    .dataframe tbody tr th {\n",
       "        vertical-align: top;\n",
       "    }\n",
       "\n",
       "    .dataframe thead th {\n",
       "        text-align: right;\n",
       "    }\n",
       "</style>\n",
       "<table border=\"1\" class=\"dataframe\">\n",
       "  <thead>\n",
       "    <tr style=\"text-align: right;\">\n",
       "      <th></th>\n",
       "      <th>Species</th>\n",
       "      <th>Aroma</th>\n",
       "      <th>Flavor</th>\n",
       "      <th>Aftertaste</th>\n",
       "      <th>Acidity</th>\n",
       "      <th>Body</th>\n",
       "      <th>Balance</th>\n",
       "      <th>Uniformity</th>\n",
       "      <th>Clean.Cup</th>\n",
       "      <th>Sweetness</th>\n",
       "      <th>Moisture</th>\n",
       "      <th>Category.One.Defects</th>\n",
       "      <th>Category.Two.Defects</th>\n",
       "    </tr>\n",
       "  </thead>\n",
       "  <tbody>\n",
       "    <tr>\n",
       "      <th>124</th>\n",
       "      <td>Arabica</td>\n",
       "      <td>7.83</td>\n",
       "      <td>7.58</td>\n",
       "      <td>7.58</td>\n",
       "      <td>7.83</td>\n",
       "      <td>7.75</td>\n",
       "      <td>7.67</td>\n",
       "      <td>10.00</td>\n",
       "      <td>10.00</td>\n",
       "      <td>10.0</td>\n",
       "      <td>0.18</td>\n",
       "      <td>0</td>\n",
       "      <td>2</td>\n",
       "    </tr>\n",
       "    <tr>\n",
       "      <th>143</th>\n",
       "      <td>Arabica</td>\n",
       "      <td>7.42</td>\n",
       "      <td>7.75</td>\n",
       "      <td>7.75</td>\n",
       "      <td>8.00</td>\n",
       "      <td>8.00</td>\n",
       "      <td>7.92</td>\n",
       "      <td>10.00</td>\n",
       "      <td>10.00</td>\n",
       "      <td>10.0</td>\n",
       "      <td>0.20</td>\n",
       "      <td>0</td>\n",
       "      <td>3</td>\n",
       "    </tr>\n",
       "    <tr>\n",
       "      <th>178</th>\n",
       "      <td>Arabica</td>\n",
       "      <td>7.50</td>\n",
       "      <td>7.75</td>\n",
       "      <td>7.83</td>\n",
       "      <td>7.92</td>\n",
       "      <td>7.92</td>\n",
       "      <td>7.75</td>\n",
       "      <td>10.00</td>\n",
       "      <td>10.00</td>\n",
       "      <td>10.0</td>\n",
       "      <td>0.20</td>\n",
       "      <td>0</td>\n",
       "      <td>2</td>\n",
       "    </tr>\n",
       "    <tr>\n",
       "      <th>526</th>\n",
       "      <td>Arabica</td>\n",
       "      <td>7.33</td>\n",
       "      <td>7.67</td>\n",
       "      <td>7.58</td>\n",
       "      <td>7.50</td>\n",
       "      <td>7.75</td>\n",
       "      <td>7.67</td>\n",
       "      <td>10.00</td>\n",
       "      <td>10.00</td>\n",
       "      <td>10.0</td>\n",
       "      <td>0.28</td>\n",
       "      <td>0</td>\n",
       "      <td>0</td>\n",
       "    </tr>\n",
       "    <tr>\n",
       "      <th>632</th>\n",
       "      <td>Arabica</td>\n",
       "      <td>7.50</td>\n",
       "      <td>7.42</td>\n",
       "      <td>7.33</td>\n",
       "      <td>7.33</td>\n",
       "      <td>7.67</td>\n",
       "      <td>7.83</td>\n",
       "      <td>10.00</td>\n",
       "      <td>10.00</td>\n",
       "      <td>10.0</td>\n",
       "      <td>0.21</td>\n",
       "      <td>0</td>\n",
       "      <td>2</td>\n",
       "    </tr>\n",
       "    <tr>\n",
       "      <th>755</th>\n",
       "      <td>Arabica</td>\n",
       "      <td>7.17</td>\n",
       "      <td>7.25</td>\n",
       "      <td>7.58</td>\n",
       "      <td>7.25</td>\n",
       "      <td>7.58</td>\n",
       "      <td>7.67</td>\n",
       "      <td>10.00</td>\n",
       "      <td>10.00</td>\n",
       "      <td>10.0</td>\n",
       "      <td>0.22</td>\n",
       "      <td>0</td>\n",
       "      <td>2</td>\n",
       "    </tr>\n",
       "    <tr>\n",
       "      <th>908</th>\n",
       "      <td>Arabica</td>\n",
       "      <td>7.33</td>\n",
       "      <td>7.33</td>\n",
       "      <td>7.17</td>\n",
       "      <td>7.50</td>\n",
       "      <td>7.58</td>\n",
       "      <td>7.33</td>\n",
       "      <td>10.00</td>\n",
       "      <td>10.00</td>\n",
       "      <td>10.0</td>\n",
       "      <td>0.20</td>\n",
       "      <td>0</td>\n",
       "      <td>0</td>\n",
       "    </tr>\n",
       "    <tr>\n",
       "      <th>1059</th>\n",
       "      <td>Arabica</td>\n",
       "      <td>7.17</td>\n",
       "      <td>7.25</td>\n",
       "      <td>7.08</td>\n",
       "      <td>7.42</td>\n",
       "      <td>7.08</td>\n",
       "      <td>7.42</td>\n",
       "      <td>10.00</td>\n",
       "      <td>10.00</td>\n",
       "      <td>10.0</td>\n",
       "      <td>0.18</td>\n",
       "      <td>0</td>\n",
       "      <td>2</td>\n",
       "    </tr>\n",
       "    <tr>\n",
       "      <th>1082</th>\n",
       "      <td>Arabica</td>\n",
       "      <td>7.25</td>\n",
       "      <td>7.08</td>\n",
       "      <td>7.25</td>\n",
       "      <td>7.17</td>\n",
       "      <td>7.33</td>\n",
       "      <td>7.17</td>\n",
       "      <td>10.00</td>\n",
       "      <td>10.00</td>\n",
       "      <td>10.0</td>\n",
       "      <td>0.17</td>\n",
       "      <td>0</td>\n",
       "      <td>14</td>\n",
       "    </tr>\n",
       "    <tr>\n",
       "      <th>1168</th>\n",
       "      <td>Arabica</td>\n",
       "      <td>7.08</td>\n",
       "      <td>7.00</td>\n",
       "      <td>6.83</td>\n",
       "      <td>7.33</td>\n",
       "      <td>7.25</td>\n",
       "      <td>7.00</td>\n",
       "      <td>10.00</td>\n",
       "      <td>10.00</td>\n",
       "      <td>10.0</td>\n",
       "      <td>0.17</td>\n",
       "      <td>1</td>\n",
       "      <td>19</td>\n",
       "    </tr>\n",
       "    <tr>\n",
       "      <th>1281</th>\n",
       "      <td>Arabica</td>\n",
       "      <td>7.08</td>\n",
       "      <td>6.75</td>\n",
       "      <td>6.58</td>\n",
       "      <td>7.00</td>\n",
       "      <td>7.00</td>\n",
       "      <td>6.75</td>\n",
       "      <td>8.67</td>\n",
       "      <td>8.67</td>\n",
       "      <td>10.0</td>\n",
       "      <td>0.17</td>\n",
       "      <td>0</td>\n",
       "      <td>6</td>\n",
       "    </tr>\n",
       "  </tbody>\n",
       "</table>\n",
       "</div>"
      ],
      "text/plain": [
       "      Species  Aroma  Flavor  Aftertaste  Acidity  Body  Balance  Uniformity  \\\n",
       "124   Arabica   7.83    7.58        7.58     7.83  7.75     7.67       10.00   \n",
       "143   Arabica   7.42    7.75        7.75     8.00  8.00     7.92       10.00   \n",
       "178   Arabica   7.50    7.75        7.83     7.92  7.92     7.75       10.00   \n",
       "526   Arabica   7.33    7.67        7.58     7.50  7.75     7.67       10.00   \n",
       "632   Arabica   7.50    7.42        7.33     7.33  7.67     7.83       10.00   \n",
       "755   Arabica   7.17    7.25        7.58     7.25  7.58     7.67       10.00   \n",
       "908   Arabica   7.33    7.33        7.17     7.50  7.58     7.33       10.00   \n",
       "1059  Arabica   7.17    7.25        7.08     7.42  7.08     7.42       10.00   \n",
       "1082  Arabica   7.25    7.08        7.25     7.17  7.33     7.17       10.00   \n",
       "1168  Arabica   7.08    7.00        6.83     7.33  7.25     7.00       10.00   \n",
       "1281  Arabica   7.08    6.75        6.58     7.00  7.00     6.75        8.67   \n",
       "\n",
       "      Clean.Cup  Sweetness  Moisture  Category.One.Defects  \\\n",
       "124       10.00       10.0      0.18                     0   \n",
       "143       10.00       10.0      0.20                     0   \n",
       "178       10.00       10.0      0.20                     0   \n",
       "526       10.00       10.0      0.28                     0   \n",
       "632       10.00       10.0      0.21                     0   \n",
       "755       10.00       10.0      0.22                     0   \n",
       "908       10.00       10.0      0.20                     0   \n",
       "1059      10.00       10.0      0.18                     0   \n",
       "1082      10.00       10.0      0.17                     0   \n",
       "1168      10.00       10.0      0.17                     1   \n",
       "1281       8.67       10.0      0.17                     0   \n",
       "\n",
       "      Category.Two.Defects  \n",
       "124                      2  \n",
       "143                      3  \n",
       "178                      2  \n",
       "526                      0  \n",
       "632                      2  \n",
       "755                      2  \n",
       "908                      0  \n",
       "1059                     2  \n",
       "1082                    14  \n",
       "1168                    19  \n",
       "1281                     6  "
      ]
     },
     "execution_count": 8,
     "metadata": {},
     "output_type": "execute_result"
    }
   ],
   "source": [
    "# Checking for Outliers\n",
    "upper_bound = df_quality['Moisture'].mean() + (1.5 * df_quality['Moisture'].std())\n",
    "lower_bound = df_quality['Moisture'].mean() - (1.5 * df_quality['Moisture'].std())\n",
    "print(f\"Lower Bound: {lower_bound}\")\n",
    "print(f\"Upper Bound: {upper_bound}\")\n",
    "df_quality.loc[df_quality['Moisture'] > upper_bound]\n",
    "# df_quality.loc[df_quality['Moisture'] > upper_bound),'Moisture']='0.23'"
   ]
  },
  {
   "cell_type": "markdown",
   "metadata": {},
   "source": [
    "There are outliers in data, so better to select Models which are insensitive to outliers like SVC, Decision Tree, and Ensembling Techniques"
   ]
  },
  {
   "cell_type": "markdown",
   "metadata": {},
   "source": [
    "### Dummy Encoding Species to check if Species has correlation to any other feature columns"
   ]
  },
  {
   "cell_type": "code",
   "execution_count": 9,
   "metadata": {
    "ExecuteTime": {
     "end_time": "2021-02-24T14:49:48.496362Z",
     "start_time": "2021-02-24T14:49:48.356318Z"
    }
   },
   "outputs": [
    {
     "data": {
      "text/html": [
       "<div>\n",
       "<style scoped>\n",
       "    .dataframe tbody tr th:only-of-type {\n",
       "        vertical-align: middle;\n",
       "    }\n",
       "\n",
       "    .dataframe tbody tr th {\n",
       "        vertical-align: top;\n",
       "    }\n",
       "\n",
       "    .dataframe thead th {\n",
       "        text-align: right;\n",
       "    }\n",
       "</style>\n",
       "<table border=\"1\" class=\"dataframe\">\n",
       "  <thead>\n",
       "    <tr style=\"text-align: right;\">\n",
       "      <th></th>\n",
       "      <th>Species</th>\n",
       "      <th>Aroma</th>\n",
       "      <th>Flavor</th>\n",
       "      <th>Aftertaste</th>\n",
       "      <th>Acidity</th>\n",
       "      <th>Body</th>\n",
       "      <th>Balance</th>\n",
       "      <th>Uniformity</th>\n",
       "      <th>Clean.Cup</th>\n",
       "      <th>Sweetness</th>\n",
       "      <th>Moisture</th>\n",
       "      <th>Category.One.Defects</th>\n",
       "      <th>Category.Two.Defects</th>\n",
       "    </tr>\n",
       "  </thead>\n",
       "  <tbody>\n",
       "    <tr>\n",
       "      <th>0</th>\n",
       "      <td>0</td>\n",
       "      <td>8.67</td>\n",
       "      <td>8.83</td>\n",
       "      <td>8.67</td>\n",
       "      <td>8.75</td>\n",
       "      <td>8.50</td>\n",
       "      <td>8.42</td>\n",
       "      <td>10.0</td>\n",
       "      <td>10.0</td>\n",
       "      <td>10.0</td>\n",
       "      <td>0.12</td>\n",
       "      <td>0</td>\n",
       "      <td>0</td>\n",
       "    </tr>\n",
       "    <tr>\n",
       "      <th>1</th>\n",
       "      <td>0</td>\n",
       "      <td>8.75</td>\n",
       "      <td>8.67</td>\n",
       "      <td>8.50</td>\n",
       "      <td>8.58</td>\n",
       "      <td>8.42</td>\n",
       "      <td>8.42</td>\n",
       "      <td>10.0</td>\n",
       "      <td>10.0</td>\n",
       "      <td>10.0</td>\n",
       "      <td>0.12</td>\n",
       "      <td>0</td>\n",
       "      <td>1</td>\n",
       "    </tr>\n",
       "    <tr>\n",
       "      <th>2</th>\n",
       "      <td>0</td>\n",
       "      <td>8.42</td>\n",
       "      <td>8.50</td>\n",
       "      <td>8.42</td>\n",
       "      <td>8.42</td>\n",
       "      <td>8.33</td>\n",
       "      <td>8.42</td>\n",
       "      <td>10.0</td>\n",
       "      <td>10.0</td>\n",
       "      <td>10.0</td>\n",
       "      <td>0.00</td>\n",
       "      <td>0</td>\n",
       "      <td>0</td>\n",
       "    </tr>\n",
       "    <tr>\n",
       "      <th>3</th>\n",
       "      <td>0</td>\n",
       "      <td>8.17</td>\n",
       "      <td>8.58</td>\n",
       "      <td>8.42</td>\n",
       "      <td>8.42</td>\n",
       "      <td>8.50</td>\n",
       "      <td>8.25</td>\n",
       "      <td>10.0</td>\n",
       "      <td>10.0</td>\n",
       "      <td>10.0</td>\n",
       "      <td>0.11</td>\n",
       "      <td>0</td>\n",
       "      <td>2</td>\n",
       "    </tr>\n",
       "    <tr>\n",
       "      <th>4</th>\n",
       "      <td>0</td>\n",
       "      <td>8.25</td>\n",
       "      <td>8.50</td>\n",
       "      <td>8.25</td>\n",
       "      <td>8.50</td>\n",
       "      <td>8.42</td>\n",
       "      <td>8.33</td>\n",
       "      <td>10.0</td>\n",
       "      <td>10.0</td>\n",
       "      <td>10.0</td>\n",
       "      <td>0.12</td>\n",
       "      <td>0</td>\n",
       "      <td>2</td>\n",
       "    </tr>\n",
       "  </tbody>\n",
       "</table>\n",
       "</div>"
      ],
      "text/plain": [
       "   Species  Aroma  Flavor  Aftertaste  Acidity  Body  Balance  Uniformity  \\\n",
       "0        0   8.67    8.83        8.67     8.75  8.50     8.42        10.0   \n",
       "1        0   8.75    8.67        8.50     8.58  8.42     8.42        10.0   \n",
       "2        0   8.42    8.50        8.42     8.42  8.33     8.42        10.0   \n",
       "3        0   8.17    8.58        8.42     8.42  8.50     8.25        10.0   \n",
       "4        0   8.25    8.50        8.25     8.50  8.42     8.33        10.0   \n",
       "\n",
       "   Clean.Cup  Sweetness  Moisture  Category.One.Defects  Category.Two.Defects  \n",
       "0       10.0       10.0      0.12                     0                     0  \n",
       "1       10.0       10.0      0.12                     0                     1  \n",
       "2       10.0       10.0      0.00                     0                     0  \n",
       "3       10.0       10.0      0.11                     0                     2  \n",
       "4       10.0       10.0      0.12                     0                     2  "
      ]
     },
     "execution_count": 9,
     "metadata": {},
     "output_type": "execute_result"
    }
   ],
   "source": [
    "df_quality_corr = df_quality.copy()\n",
    "df_quality_corr['Species'] = pd.get_dummies(df_quality_corr['Species'], drop_first=True)\n",
    "df_quality_corr.head()"
   ]
  },
  {
   "cell_type": "code",
   "execution_count": 10,
   "metadata": {
    "ExecuteTime": {
     "end_time": "2021-02-24T14:49:49.926130Z",
     "start_time": "2021-02-24T14:49:48.498362Z"
    },
    "scrolled": true
   },
   "outputs": [
    {
     "data": {
      "text/plain": [
       "<AxesSubplot:>"
      ]
     },
     "execution_count": 10,
     "metadata": {},
     "output_type": "execute_result"
    },
    {
     "data": {
      "image/png": "[encoded data removed]",
      "text/plain": [
       "<Figure size 720x720 with 2 Axes>"
      ]
     },
     "metadata": {},
     "output_type": "display_data"
    }
   ],
   "source": [
    "# correlation matrix\n",
    "corr_mat = df_quality_corr.corr()\n",
    "top_corr_features = corr_mat.index\n",
    "fig = plt.figure(figsize=(10,10))\n",
    "fig.patch.set_facecolor('white')\n",
    "# heatmap\n",
    "sns.heatmap(df_quality_corr[top_corr_features].corr(), annot=True, cmap=\"RdYlGn\")"
   ]
  },
  {
   "cell_type": "markdown",
   "metadata": {},
   "source": [
    "* From the Correlation heatmap we can see our Label Species is not much correlated to any of the Features.\n",
    "* Also Flavor column is highly correlated to many other features.\n",
    "\n",
    " So we can remove that feature from training the model. It improved overall accuracy by 2%. \n",
    " \n",
    " But after SMOTE it doesn't matter"
   ]
  },
  {
   "cell_type": "code",
   "execution_count": 11,
   "metadata": {
    "ExecuteTime": {
     "end_time": "2021-02-24T14:49:49.942131Z",
     "start_time": "2021-02-24T14:49:49.927131Z"
    },
    "scrolled": true
   },
   "outputs": [
    {
     "name": "stdout",
     "output_type": "stream",
     "text": [
      "<class 'pandas.core.frame.DataFrame'>\n",
      "RangeIndex: 1339 entries, 0 to 1338\n",
      "Data columns (total 12 columns):\n",
      " #   Column                Non-Null Count  Dtype  \n",
      "---  ------                --------------  -----  \n",
      " 0   Species               1339 non-null   object \n",
      " 1   Aroma                 1339 non-null   float64\n",
      " 2   Aftertaste            1339 non-null   float64\n",
      " 3   Acidity               1339 non-null   float64\n",
      " 4   Body                  1339 non-null   float64\n",
      " 5   Balance               1339 non-null   float64\n",
      " 6   Uniformity            1339 non-null   float64\n",
      " 7   Clean.Cup             1339 non-null   float64\n",
      " 8   Sweetness             1339 non-null   float64\n",
      " 9   Moisture              1339 non-null   float64\n",
      " 10  Category.One.Defects  1339 non-null   int64  \n",
      " 11  Category.Two.Defects  1339 non-null   int64  \n",
      "dtypes: float64(9), int64(2), object(1)\n",
      "memory usage: 125.7+ KB\n"
     ]
    }
   ],
   "source": [
    "df_quality.drop('Flavor', axis = 1, inplace = True) \n",
    "df_quality.info()"
   ]
  },
  {
   "cell_type": "markdown",
   "metadata": {},
   "source": [
    "## Select your features (columns)"
   ]
  },
  {
   "cell_type": "code",
   "execution_count": 12,
   "metadata": {
    "ExecuteTime": {
     "end_time": "2021-02-24T14:49:50.100304Z",
     "start_time": "2021-02-24T14:49:49.944132Z"
    }
   },
   "outputs": [
    {
     "name": "stdout",
     "output_type": "stream",
     "text": [
      "(1339, 11) (1339,)\n"
     ]
    }
   ],
   "source": [
    "# Set features. This will also be used as your x values.\n",
    "data = df_quality.values\n",
    "X = data[:, 1:12]\n",
    "y = data[:, 0]\n",
    "print(X.shape, y.shape)"
   ]
  },
  {
   "cell_type": "markdown",
   "metadata": {},
   "source": [
    "## Pre-processing\n",
    "Scale and Normalize the data using the StandardScaler"
   ]
  },
  {
   "cell_type": "markdown",
   "metadata": {},
   "source": [
    "## Creating Train Test Split on Original Data"
   ]
  },
  {
   "cell_type": "code",
   "execution_count": 13,
   "metadata": {
    "ExecuteTime": {
     "end_time": "2021-02-24T14:49:50.624250Z",
     "start_time": "2021-02-24T14:49:50.102303Z"
    }
   },
   "outputs": [],
   "source": [
    "# Creating train test split on oversampled data\n",
    "from sklearn.model_selection import train_test_split\n",
    "\n",
    "X_train_full, X_test, y_train_full, y_test = train_test_split(X, y, random_state=13, test_size=0.2)"
   ]
  },
  {
   "cell_type": "code",
   "execution_count": 14,
   "metadata": {
    "ExecuteTime": {
     "end_time": "2021-02-24T14:49:50.640252Z",
     "start_time": "2021-02-24T14:49:50.626252Z"
    }
   },
   "outputs": [],
   "source": [
    "from sklearn.preprocessing import StandardScaler\n",
    "# Create a StandardScater model and fit it to the training data\n",
    "X_scaler = StandardScaler().fit(X_train_full)\n",
    "\n",
    "# Transform the training and testing data using the X_scaler\n",
    "X_train_scaled = X_scaler.transform(X_train_full)\n",
    "X_test_scaled = X_scaler.transform(X_test)"
   ]
  },
  {
   "cell_type": "code",
   "execution_count": 15,
   "metadata": {
    "ExecuteTime": {
     "end_time": "2021-02-24T14:49:50.764972Z",
     "start_time": "2021-02-24T14:49:50.642252Z"
    }
   },
   "outputs": [
    {
     "data": {
      "text/plain": [
       "array([-0.35629753, -0.93837254, -0.91323013,  0.42051079, -0.79855296,\n",
       "       -1.92637969, -0.60947772, -0.79704048,  0.24761759,  0.18670879,\n",
       "       -0.11363462])"
      ]
     },
     "execution_count": 15,
     "metadata": {},
     "output_type": "execute_result"
    }
   ],
   "source": [
    "X_test_scaled[0]"
   ]
  },
  {
   "cell_type": "code",
   "execution_count": 16,
   "metadata": {
    "ExecuteTime": {
     "end_time": "2021-02-24T14:49:50.875538Z",
     "start_time": "2021-02-24T14:49:50.766972Z"
    }
   },
   "outputs": [
    {
     "data": {
      "text/plain": [
       "array([[7.42, 7.0, 7.17, ..., 0.1, 1, 3],\n",
       "       [7.17, 6.92, 7.25, ..., 0.12, 1, 7],\n",
       "       [7.92, 7.83, 7.58, ..., 0.08, 0, 0],\n",
       "       ...,\n",
       "       [7.67, 7.58, 7.42, ..., 0.12, 0, 1],\n",
       "       [7.92, 7.83, 8.08, ..., 0.1, 0, 3],\n",
       "       [7.83, 7.83, 8.0, ..., 0.0, 1, 1]], dtype=object)"
      ]
     },
     "execution_count": 16,
     "metadata": {},
     "output_type": "execute_result"
    }
   ],
   "source": [
    "X_test"
   ]
  },
  {
   "cell_type": "markdown",
   "metadata": {},
   "source": [
    "#### Imbalanced Dataset\n",
    "##### Synthethetic Minority Over sampling Technique (SMOTE)"
   ]
  },
  {
   "cell_type": "code",
   "execution_count": 17,
   "metadata": {
    "ExecuteTime": {
     "end_time": "2021-02-24T14:49:51.001323Z",
     "start_time": "2021-02-24T14:49:50.877531Z"
    },
    "scrolled": true
   },
   "outputs": [
    {
     "data": {
      "text/plain": [
       "Arabica    1311\n",
       "Robusta      28\n",
       "Name: Species, dtype: int64"
      ]
     },
     "execution_count": 17,
     "metadata": {},
     "output_type": "execute_result"
    }
   ],
   "source": [
    "# Checking for imbalanced Dataset\n",
    "df_quality['Species'].value_counts()"
   ]
  },
  {
   "cell_type": "code",
   "execution_count": 18,
   "metadata": {
    "ExecuteTime": {
     "end_time": "2021-02-24T14:49:51.476280Z",
     "start_time": "2021-02-24T14:49:51.003314Z"
    }
   },
   "outputs": [
    {
     "name": "stderr",
     "output_type": "stream",
     "text": [
      "C:\\Users\\Abraham\\anaconda3\\envs\\envcoffee\\lib\\site-packages\\imblearn\\utils\\_validation.py:326: UserWarning: After over-sampling, the number of samples (1500) in class Arabica will be larger than the number of samples in the majority class (class #Arabica -> 1049)\n",
      "  n_samples_majority,\n",
      "C:\\Users\\Abraham\\anaconda3\\envs\\envcoffee\\lib\\site-packages\\imblearn\\utils\\_validation.py:326: UserWarning: After over-sampling, the number of samples (1500) in class Robusta will be larger than the number of samples in the majority class (class #Arabica -> 1049)\n",
      "  n_samples_majority,\n"
     ]
    }
   ],
   "source": [
    "# Over sampling to a higher number of records for both Species\n",
    "from imblearn.over_sampling import SMOTE\n",
    "\n",
    "synth = SMOTE(random_state=13, sampling_strategy={\"Arabica\":1500, \"Robusta\":1500})\n",
    "X_resampled, y_resampled = synth.fit_resample(X_train_scaled, y_train_full)"
   ]
  },
  {
   "cell_type": "code",
   "execution_count": 19,
   "metadata": {
    "ExecuteTime": {
     "end_time": "2021-02-24T14:49:51.492285Z",
     "start_time": "2021-02-24T14:49:51.479283Z"
    }
   },
   "outputs": [
    {
     "name": "stdout",
     "output_type": "stream",
     "text": [
      "Before SMOTE count: Counter({'Arabica': 1049, 'Robusta': 22})\n",
      "After SMOTE count: Counter({'Arabica': 1500, 'Robusta': 1500})\n"
     ]
    }
   ],
   "source": [
    "from collections import Counter\n",
    "print(\"Before SMOTE count:\" , Counter(y_train_full))\n",
    "print(\"After SMOTE count:\" , Counter(y_resampled))"
   ]
  },
  {
   "cell_type": "markdown",
   "metadata": {},
   "source": [
    "## Creating Train and  Validation Set After SMOTE"
   ]
  },
  {
   "cell_type": "code",
   "execution_count": 20,
   "metadata": {
    "ExecuteTime": {
     "end_time": "2021-02-24T14:49:51.635531Z",
     "start_time": "2021-02-24T14:49:51.494281Z"
    }
   },
   "outputs": [],
   "source": [
    "# Creating train test split on oversampled data\n",
    "X_train, X_val, y_train, y_val = train_test_split(X_resampled, y_resampled, random_state=13, test_size=0.3)"
   ]
  },
  {
   "cell_type": "markdown",
   "metadata": {},
   "source": [
    "# Train the Model using SVC"
   ]
  },
  {
   "cell_type": "code",
   "execution_count": 21,
   "metadata": {
    "ExecuteTime": {
     "end_time": "2021-02-24T14:49:51.761123Z",
     "start_time": "2021-02-24T14:49:51.637531Z"
    }
   },
   "outputs": [
    {
     "name": "stdout",
     "output_type": "stream",
     "text": [
      "Training Data Score: 0.9971428571428571\n",
      "Testing Data Score: 0.9944444444444445\n"
     ]
    }
   ],
   "source": [
    "# Support vector machine linear classifier\n",
    "from sklearn.svm import SVC \n",
    "model = SVC(kernel='linear')\n",
    "model.fit(X_train, y_train)\n",
    "\n",
    "print(f\"Training Data Score: {model.score(X_train, y_train)}\")\n",
    "print(f\"Testing Data Score: {model.score(X_val, y_val)}\")"
   ]
  },
  {
   "cell_type": "markdown",
   "metadata": {},
   "source": [
    "## Evaluate the Model using Confusion Matrix"
   ]
  },
  {
   "cell_type": "code",
   "execution_count": 22,
   "metadata": {
    "ExecuteTime": {
     "end_time": "2021-02-24T14:49:52.014054Z",
     "start_time": "2021-02-24T14:49:51.767144Z"
    }
   },
   "outputs": [
    {
     "data": {
      "text/plain": [
       "<sklearn.metrics._plot.confusion_matrix.ConfusionMatrixDisplay at 0x2d300e73788>"
      ]
     },
     "execution_count": 22,
     "metadata": {},
     "output_type": "execute_result"
    },
    {
     "data": {
      "image/png": "[encoded data removed]",
      "text/plain": [
       "<Figure size 432x288 with 2 Axes>"
      ]
     },
     "metadata": {
      "needs_background": "light"
     },
     "output_type": "display_data"
    }
   ],
   "source": [
    "# Make predictions with the model\n",
    "predictions = model.predict(X_val)  \n",
    "\n",
    "from sklearn.metrics import plot_confusion_matrix\n",
    "\n",
    "plot_confusion_matrix(model, X_val, y_val, cmap=plt.cm.Blues)"
   ]
  },
  {
   "cell_type": "markdown",
   "metadata": {},
   "source": [
    "# Decision Tree Model"
   ]
  },
  {
   "cell_type": "code",
   "execution_count": 23,
   "metadata": {
    "ExecuteTime": {
     "end_time": "2021-02-24T14:49:52.078044Z",
     "start_time": "2021-02-24T14:49:52.018055Z"
    }
   },
   "outputs": [
    {
     "name": "stdout",
     "output_type": "stream",
     "text": [
      "              precision    recall  f1-score   support\n",
      "\n",
      "     Arabica       1.00      1.00      1.00       471\n",
      "     Robusta       1.00      1.00      1.00       429\n",
      "\n",
      "    accuracy                           1.00       900\n",
      "   macro avg       1.00      1.00      1.00       900\n",
      "weighted avg       1.00      1.00      1.00       900\n",
      "\n"
     ]
    }
   ],
   "source": [
    "from sklearn import tree\n",
    "\n",
    "# Create and score a decision tree classifier\n",
    "clfTree = tree.DecisionTreeClassifier(min_samples_split=4)\n",
    "clf = clfTree.fit(X_train, y_train)\n",
    "\n",
    "# Make predictions with the hypertuned model\n",
    "treePredictions = clf.predict(X_val)  \n",
    "# Calculate classification report\n",
    "from sklearn.metrics import classification_report\n",
    "print(classification_report(y_val, treePredictions,\n",
    "                            target_names=[\"Arabica\", \"Robusta\"]))"
   ]
  },
  {
   "cell_type": "code",
   "execution_count": 24,
   "metadata": {
    "ExecuteTime": {
     "end_time": "2021-02-24T14:49:52.157054Z",
     "start_time": "2021-02-24T14:49:52.079046Z"
    },
    "scrolled": true
   },
   "outputs": [
    {
     "name": "stdout",
     "output_type": "stream",
     "text": [
      "Training Data Score: 1.0\n",
      "Validation Data Score: 0.9988888888888889\n"
     ]
    },
    {
     "data": {
      "text/html": [
       "<div>\n",
       "<style scoped>\n",
       "    .dataframe tbody tr th:only-of-type {\n",
       "        vertical-align: middle;\n",
       "    }\n",
       "\n",
       "    .dataframe tbody tr th {\n",
       "        vertical-align: top;\n",
       "    }\n",
       "\n",
       "    .dataframe thead th {\n",
       "        text-align: right;\n",
       "    }\n",
       "</style>\n",
       "<table border=\"1\" class=\"dataframe\">\n",
       "  <thead>\n",
       "    <tr style=\"text-align: right;\">\n",
       "      <th>col_0</th>\n",
       "      <th>Arabica</th>\n",
       "      <th>Robusta</th>\n",
       "    </tr>\n",
       "    <tr>\n",
       "      <th>row_0</th>\n",
       "      <th></th>\n",
       "      <th></th>\n",
       "    </tr>\n",
       "  </thead>\n",
       "  <tbody>\n",
       "    <tr>\n",
       "      <th>Arabica</th>\n",
       "      <td>470</td>\n",
       "      <td>1</td>\n",
       "    </tr>\n",
       "    <tr>\n",
       "      <th>Robusta</th>\n",
       "      <td>0</td>\n",
       "      <td>429</td>\n",
       "    </tr>\n",
       "  </tbody>\n",
       "</table>\n",
       "</div>"
      ],
      "text/plain": [
       "col_0    Arabica  Robusta\n",
       "row_0                    \n",
       "Arabica      470        1\n",
       "Robusta        0      429"
      ]
     },
     "execution_count": 24,
     "metadata": {},
     "output_type": "execute_result"
    }
   ],
   "source": [
    "print(f\"Training Data Score: {clf.score(X_train, y_train)}\")\n",
    "print(f\"Validation Data Score: {clf.score(X_val, y_val)}\")\n",
    "# Confusion matrix\n",
    "pd.crosstab(y_val,treePredictions)"
   ]
  },
  {
   "cell_type": "code",
   "execution_count": 25,
   "metadata": {
    "ExecuteTime": {
     "end_time": "2021-02-24T14:49:52.253036Z",
     "start_time": "2021-02-24T14:49:52.159063Z"
    }
   },
   "outputs": [
    {
     "name": "stdout",
     "output_type": "stream",
     "text": [
      "Testing Data Score: 1.0\n"
     ]
    },
    {
     "data": {
      "text/html": [
       "<div>\n",
       "<style scoped>\n",
       "    .dataframe tbody tr th:only-of-type {\n",
       "        vertical-align: middle;\n",
       "    }\n",
       "\n",
       "    .dataframe tbody tr th {\n",
       "        vertical-align: top;\n",
       "    }\n",
       "\n",
       "    .dataframe thead th {\n",
       "        text-align: right;\n",
       "    }\n",
       "</style>\n",
       "<table border=\"1\" class=\"dataframe\">\n",
       "  <thead>\n",
       "    <tr style=\"text-align: right;\">\n",
       "      <th></th>\n",
       "      <th>Prediction</th>\n",
       "      <th>Actual</th>\n",
       "    </tr>\n",
       "  </thead>\n",
       "  <tbody>\n",
       "    <tr>\n",
       "      <th>15</th>\n",
       "      <td>Robusta</td>\n",
       "      <td>Robusta</td>\n",
       "    </tr>\n",
       "    <tr>\n",
       "      <th>31</th>\n",
       "      <td>Robusta</td>\n",
       "      <td>Robusta</td>\n",
       "    </tr>\n",
       "    <tr>\n",
       "      <th>60</th>\n",
       "      <td>Robusta</td>\n",
       "      <td>Robusta</td>\n",
       "    </tr>\n",
       "    <tr>\n",
       "      <th>125</th>\n",
       "      <td>Robusta</td>\n",
       "      <td>Robusta</td>\n",
       "    </tr>\n",
       "    <tr>\n",
       "      <th>205</th>\n",
       "      <td>Robusta</td>\n",
       "      <td>Robusta</td>\n",
       "    </tr>\n",
       "    <tr>\n",
       "      <th>229</th>\n",
       "      <td>Robusta</td>\n",
       "      <td>Robusta</td>\n",
       "    </tr>\n",
       "  </tbody>\n",
       "</table>\n",
       "</div>"
      ],
      "text/plain": [
       "    Prediction   Actual\n",
       "15     Robusta  Robusta\n",
       "31     Robusta  Robusta\n",
       "60     Robusta  Robusta\n",
       "125    Robusta  Robusta\n",
       "205    Robusta  Robusta\n",
       "229    Robusta  Robusta"
      ]
     },
     "execution_count": 25,
     "metadata": {},
     "output_type": "execute_result"
    }
   ],
   "source": [
    "print(f\"Testing Data Score: {clf.score(X_test_scaled, y_test)}\")\n",
    "df = pd.DataFrame({\"Prediction\": clf.predict(X_test_scaled), \"Actual\": y_test}).reset_index(drop=True)\n",
    "df.loc[df['Actual'] == \"Robusta\"]"
   ]
  },
  {
   "cell_type": "code",
   "execution_count": 26,
   "metadata": {
    "ExecuteTime": {
     "end_time": "2021-02-24T14:49:55.081922Z",
     "start_time": "2021-02-24T14:49:52.255035Z"
    },
    "scrolled": true
   },
   "outputs": [
    {
     "data": {
      "image/svg+xml": [
       "<?xml version=\"1.0\" encoding=\"UTF-8\" standalone=\"no\"?>\r\n",
       "<!DOCTYPE svg PUBLIC \"-//W3C//DTD SVG 1.1//EN\"\r\n",
       " \"http://www.w3.org/Graphics/SVG/1.1/DTD/svg11.dtd\">\r\n",
       "<!-- Generated by graphviz version 2.38.0 (20140413.2041)\r\n",
       " -->\r\n",
       "<!-- Title: Tree Pages: 1 -->\r\n",
       "<svg width=\"657pt\" height=\"671pt\"\r\n",
       " viewBox=\"0.00 0.00 657.00 671.00\" xmlns=\"http://www.w3.org/2000/svg\" xmlns:xlink=\"http://www.w3.org/1999/xlink\">\r\n",
       "<g id=\"graph0\" class=\"graph\" transform=\"scale(1 1) rotate(0) translate(4 667)\">\r\n",
       "<title>Tree</title>\r\n",
       "<polygon fill=\"white\" stroke=\"none\" points=\"-4,4 -4,-667 653,-667 653,4 -4,4\"/>\r\n",
       "<!-- 0 -->\r\n",
       "<g id=\"node1\" class=\"node\"><title>0</title>\r\n",
       "<path fill=\"#f7fbfe\" stroke=\"black\" d=\"M343.5,-663C343.5,-663 221.5,-663 221.5,-663 215.5,-663 209.5,-657 209.5,-651 209.5,-651 209.5,-592 209.5,-592 209.5,-586 215.5,-580 221.5,-580 221.5,-580 343.5,-580 343.5,-580 349.5,-580 355.5,-586 355.5,-592 355.5,-592 355.5,-651 355.5,-651 355.5,-657 349.5,-663 343.5,-663\"/>\r\n",
       "<text text-anchor=\"start\" x=\"223\" y=\"-647.8\" font-family=\"Helvetica,sans-Serif\" font-size=\"14.00\">Sweetness ≤ &#45;2.08</text>\r\n",
       "<text text-anchor=\"start\" x=\"253.5\" y=\"-632.8\" font-family=\"Helvetica,sans-Serif\" font-size=\"14.00\">gini = 0.5</text>\r\n",
       "<text text-anchor=\"start\" x=\"231\" y=\"-617.8\" font-family=\"Helvetica,sans-Serif\" font-size=\"14.00\">samples = 2100</text>\r\n",
       "<text text-anchor=\"start\" x=\"217.5\" y=\"-602.8\" font-family=\"Helvetica,sans-Serif\" font-size=\"14.00\">value = [1029, 1071]</text>\r\n",
       "<text text-anchor=\"start\" x=\"231\" y=\"-587.8\" font-family=\"Helvetica,sans-Serif\" font-size=\"14.00\">class = Robusta</text>\r\n",
       "</g>\r\n",
       "<!-- 1 -->\r\n",
       "<g id=\"node2\" class=\"node\"><title>1</title>\r\n",
       "<path fill=\"#3d9fe5\" stroke=\"black\" d=\"M266.5,-544C266.5,-544 150.5,-544 150.5,-544 144.5,-544 138.5,-538 138.5,-532 138.5,-532 138.5,-473 138.5,-473 138.5,-467 144.5,-461 150.5,-461 150.5,-461 266.5,-461 266.5,-461 272.5,-461 278.5,-467 278.5,-473 278.5,-473 278.5,-532 278.5,-532 278.5,-538 272.5,-544 266.5,-544\"/>\r\n",
       "<text text-anchor=\"start\" x=\"146.5\" y=\"-528.8\" font-family=\"Helvetica,sans-Serif\" font-size=\"14.00\">Clean.Cup ≤ &#45;1.333</text>\r\n",
       "<text text-anchor=\"start\" x=\"171\" y=\"-513.8\" font-family=\"Helvetica,sans-Serif\" font-size=\"14.00\">gini = 0.034</text>\r\n",
       "<text text-anchor=\"start\" x=\"157\" y=\"-498.8\" font-family=\"Helvetica,sans-Serif\" font-size=\"14.00\">samples = 1090</text>\r\n",
       "<text text-anchor=\"start\" x=\"151.5\" y=\"-483.8\" font-family=\"Helvetica,sans-Serif\" font-size=\"14.00\">value = [19, 1071]</text>\r\n",
       "<text text-anchor=\"start\" x=\"157\" y=\"-468.8\" font-family=\"Helvetica,sans-Serif\" font-size=\"14.00\">class = Robusta</text>\r\n",
       "</g>\r\n",
       "<!-- 0&#45;&gt;1 -->\r\n",
       "<g id=\"edge1\" class=\"edge\"><title>0&#45;&gt;1</title>\r\n",
       "<path fill=\"none\" stroke=\"black\" d=\"M256.826,-579.907C251.258,-571.105 245.312,-561.703 239.562,-552.612\"/>\r\n",
       "<polygon fill=\"black\" stroke=\"black\" points=\"242.432,-550.601 234.129,-544.021 236.516,-554.343 242.432,-550.601\"/>\r\n",
       "<text text-anchor=\"middle\" x=\"228.638\" y=\"-564.71\" font-family=\"Helvetica,sans-Serif\" font-size=\"14.00\">True</text>\r\n",
       "</g>\r\n",
       "<!-- 12 -->\r\n",
       "<g id=\"node13\" class=\"node\"><title>12</title>\r\n",
       "<path fill=\"#e58139\" stroke=\"black\" d=\"M406.5,-536.5C406.5,-536.5 308.5,-536.5 308.5,-536.5 302.5,-536.5 296.5,-530.5 296.5,-524.5 296.5,-524.5 296.5,-480.5 296.5,-480.5 296.5,-474.5 302.5,-468.5 308.5,-468.5 308.5,-468.5 406.5,-468.5 406.5,-468.5 412.5,-468.5 418.5,-474.5 418.5,-480.5 418.5,-480.5 418.5,-524.5 418.5,-524.5 418.5,-530.5 412.5,-536.5 406.5,-536.5\"/>\r\n",
       "<text text-anchor=\"start\" x=\"328.5\" y=\"-521.3\" font-family=\"Helvetica,sans-Serif\" font-size=\"14.00\">gini = 0.0</text>\r\n",
       "<text text-anchor=\"start\" x=\"306\" y=\"-506.3\" font-family=\"Helvetica,sans-Serif\" font-size=\"14.00\">samples = 1010</text>\r\n",
       "<text text-anchor=\"start\" x=\"304.5\" y=\"-491.3\" font-family=\"Helvetica,sans-Serif\" font-size=\"14.00\">value = [1010, 0]</text>\r\n",
       "<text text-anchor=\"start\" x=\"309\" y=\"-476.3\" font-family=\"Helvetica,sans-Serif\" font-size=\"14.00\">class = Arabica</text>\r\n",
       "</g>\r\n",
       "<!-- 0&#45;&gt;12 -->\r\n",
       "<g id=\"edge12\" class=\"edge\"><title>0&#45;&gt;12</title>\r\n",
       "<path fill=\"none\" stroke=\"black\" d=\"M308.521,-579.907C315.736,-568.652 323.578,-556.418 330.829,-545.106\"/>\r\n",
       "<polygon fill=\"black\" stroke=\"black\" points=\"333.789,-546.975 336.239,-536.667 327.896,-543.197 333.789,-546.975\"/>\r\n",
       "<text text-anchor=\"middle\" x=\"341.582\" y=\"-557.389\" font-family=\"Helvetica,sans-Serif\" font-size=\"14.00\">False</text>\r\n",
       "</g>\r\n",
       "<!-- 2 -->\r\n",
       "<g id=\"node3\" class=\"node\"><title>2</title>\r\n",
       "<path fill=\"#e58139\" stroke=\"black\" d=\"M180,-417.5C180,-417.5 91,-417.5 91,-417.5 85,-417.5 79,-411.5 79,-405.5 79,-405.5 79,-361.5 79,-361.5 79,-355.5 85,-349.5 91,-349.5 91,-349.5 180,-349.5 180,-349.5 186,-349.5 192,-355.5 192,-361.5 192,-361.5 192,-405.5 192,-405.5 192,-411.5 186,-417.5 180,-417.5\"/>\r\n",
       "<text text-anchor=\"start\" x=\"106.5\" y=\"-402.3\" font-family=\"Helvetica,sans-Serif\" font-size=\"14.00\">gini = 0.0</text>\r\n",
       "<text text-anchor=\"start\" x=\"92\" y=\"-387.3\" font-family=\"Helvetica,sans-Serif\" font-size=\"14.00\">samples = 14</text>\r\n",
       "<text text-anchor=\"start\" x=\"91\" y=\"-372.3\" font-family=\"Helvetica,sans-Serif\" font-size=\"14.00\">value = [14, 0]</text>\r\n",
       "<text text-anchor=\"start\" x=\"87\" y=\"-357.3\" font-family=\"Helvetica,sans-Serif\" font-size=\"14.00\">class = Arabica</text>\r\n",
       "</g>\r\n",
       "<!-- 1&#45;&gt;2 -->\r\n",
       "<g id=\"edge2\" class=\"edge\"><title>1&#45;&gt;2</title>\r\n",
       "<path fill=\"none\" stroke=\"black\" d=\"M183.173,-460.907C176.219,-449.763 168.667,-437.658 161.667,-426.439\"/>\r\n",
       "<polygon fill=\"black\" stroke=\"black\" points=\"164.457,-424.298 156.194,-417.667 158.518,-428.004 164.457,-424.298\"/>\r\n",
       "</g>\r\n",
       "<!-- 3 -->\r\n",
       "<g id=\"node4\" class=\"node\"><title>3</title>\r\n",
       "<path fill=\"#3a9de5\" stroke=\"black\" d=\"M341,-425C341,-425 222,-425 222,-425 216,-425 210,-419 210,-413 210,-413 210,-354 210,-354 210,-348 216,-342 222,-342 222,-342 341,-342 341,-342 347,-342 353,-348 353,-354 353,-354 353,-413 353,-413 353,-419 347,-425 341,-425\"/>\r\n",
       "<text text-anchor=\"start\" x=\"218\" y=\"-409.8\" font-family=\"Helvetica,sans-Serif\" font-size=\"14.00\">Sweetness ≤ &#45;4.867</text>\r\n",
       "<text text-anchor=\"start\" x=\"244\" y=\"-394.8\" font-family=\"Helvetica,sans-Serif\" font-size=\"14.00\">gini = 0.009</text>\r\n",
       "<text text-anchor=\"start\" x=\"230\" y=\"-379.8\" font-family=\"Helvetica,sans-Serif\" font-size=\"14.00\">samples = 1076</text>\r\n",
       "<text text-anchor=\"start\" x=\"228.5\" y=\"-364.8\" font-family=\"Helvetica,sans-Serif\" font-size=\"14.00\">value = [5, 1071]</text>\r\n",
       "<text text-anchor=\"start\" x=\"230\" y=\"-349.8\" font-family=\"Helvetica,sans-Serif\" font-size=\"14.00\">class = Robusta</text>\r\n",
       "</g>\r\n",
       "<!-- 1&#45;&gt;3 -->\r\n",
       "<g id=\"edge3\" class=\"edge\"><title>1&#45;&gt;3</title>\r\n",
       "<path fill=\"none\" stroke=\"black\" d=\"M233.827,-460.907C239.319,-452.105 245.185,-442.703 250.857,-433.612\"/>\r\n",
       "<polygon fill=\"black\" stroke=\"black\" points=\"253.894,-435.358 256.218,-425.021 247.955,-431.652 253.894,-435.358\"/>\r\n",
       "</g>\r\n",
       "<!-- 4 -->\r\n",
       "<g id=\"node5\" class=\"node\"><title>4</title>\r\n",
       "<path fill=\"#eca06a\" stroke=\"black\" d=\"M261,-306C261,-306 74,-306 74,-306 68,-306 62,-300 62,-294 62,-294 62,-235 62,-235 62,-229 68,-223 74,-223 74,-223 261,-223 261,-223 267,-223 273,-229 273,-235 273,-235 273,-294 273,-294 273,-300 267,-306 261,-306\"/>\r\n",
       "<text text-anchor=\"start\" x=\"70\" y=\"-290.8\" font-family=\"Helvetica,sans-Serif\" font-size=\"14.00\">Category.Two.Defects ≤ 0.647</text>\r\n",
       "<text text-anchor=\"start\" x=\"134\" y=\"-275.8\" font-family=\"Helvetica,sans-Serif\" font-size=\"14.00\">gini = 0.32</text>\r\n",
       "<text text-anchor=\"start\" x=\"128\" y=\"-260.8\" font-family=\"Helvetica,sans-Serif\" font-size=\"14.00\">samples = 5</text>\r\n",
       "<text text-anchor=\"start\" x=\"127\" y=\"-245.8\" font-family=\"Helvetica,sans-Serif\" font-size=\"14.00\">value = [4, 1]</text>\r\n",
       "<text text-anchor=\"start\" x=\"119\" y=\"-230.8\" font-family=\"Helvetica,sans-Serif\" font-size=\"14.00\">class = Arabica</text>\r\n",
       "</g>\r\n",
       "<!-- 3&#45;&gt;4 -->\r\n",
       "<g id=\"edge4\" class=\"edge\"><title>3&#45;&gt;4</title>\r\n",
       "<path fill=\"none\" stroke=\"black\" d=\"M241.948,-341.907C232.929,-332.651 223.265,-322.732 213.986,-313.209\"/>\r\n",
       "<polygon fill=\"black\" stroke=\"black\" points=\"216.467,-310.741 206.982,-306.021 211.454,-315.626 216.467,-310.741\"/>\r\n",
       "</g>\r\n",
       "<!-- 7 -->\r\n",
       "<g id=\"node8\" class=\"node\"><title>7</title>\r\n",
       "<path fill=\"#399de5\" stroke=\"black\" d=\"M490,-306C490,-306 303,-306 303,-306 297,-306 291,-300 291,-294 291,-294 291,-235 291,-235 291,-229 297,-223 303,-223 303,-223 490,-223 490,-223 496,-223 502,-229 502,-235 502,-235 502,-294 502,-294 502,-300 496,-306 490,-306\"/>\r\n",
       "<text text-anchor=\"start\" x=\"299\" y=\"-290.8\" font-family=\"Helvetica,sans-Serif\" font-size=\"14.00\">Category.Two.Defects ≤ 0.645</text>\r\n",
       "<text text-anchor=\"start\" x=\"359\" y=\"-275.8\" font-family=\"Helvetica,sans-Serif\" font-size=\"14.00\">gini = 0.002</text>\r\n",
       "<text text-anchor=\"start\" x=\"345\" y=\"-260.8\" font-family=\"Helvetica,sans-Serif\" font-size=\"14.00\">samples = 1071</text>\r\n",
       "<text text-anchor=\"start\" x=\"343.5\" y=\"-245.8\" font-family=\"Helvetica,sans-Serif\" font-size=\"14.00\">value = [1, 1070]</text>\r\n",
       "<text text-anchor=\"start\" x=\"345\" y=\"-230.8\" font-family=\"Helvetica,sans-Serif\" font-size=\"14.00\">class = Robusta</text>\r\n",
       "</g>\r\n",
       "<!-- 3&#45;&gt;7 -->\r\n",
       "<g id=\"edge7\" class=\"edge\"><title>3&#45;&gt;7</title>\r\n",
       "<path fill=\"none\" stroke=\"black\" d=\"M321.399,-341.907C330.497,-332.651 340.246,-322.732 349.607,-313.209\"/>\r\n",
       "<polygon fill=\"black\" stroke=\"black\" points=\"352.158,-315.606 356.672,-306.021 347.166,-310.699 352.158,-315.606\"/>\r\n",
       "</g>\r\n",
       "<!-- 5 -->\r\n",
       "<g id=\"node6\" class=\"node\"><title>5</title>\r\n",
       "<path fill=\"#e58139\" stroke=\"black\" d=\"M101,-179.5C101,-179.5 12,-179.5 12,-179.5 6,-179.5 0,-173.5 0,-167.5 0,-167.5 0,-123.5 0,-123.5 0,-117.5 6,-111.5 12,-111.5 12,-111.5 101,-111.5 101,-111.5 107,-111.5 113,-117.5 113,-123.5 113,-123.5 113,-167.5 113,-167.5 113,-173.5 107,-179.5 101,-179.5\"/>\r\n",
       "<text text-anchor=\"start\" x=\"27.5\" y=\"-164.3\" font-family=\"Helvetica,sans-Serif\" font-size=\"14.00\">gini = 0.0</text>\r\n",
       "<text text-anchor=\"start\" x=\"17\" y=\"-149.3\" font-family=\"Helvetica,sans-Serif\" font-size=\"14.00\">samples = 4</text>\r\n",
       "<text text-anchor=\"start\" x=\"16\" y=\"-134.3\" font-family=\"Helvetica,sans-Serif\" font-size=\"14.00\">value = [4, 0]</text>\r\n",
       "<text text-anchor=\"start\" x=\"8\" y=\"-119.3\" font-family=\"Helvetica,sans-Serif\" font-size=\"14.00\">class = Arabica</text>\r\n",
       "</g>\r\n",
       "<!-- 4&#45;&gt;5 -->\r\n",
       "<g id=\"edge5\" class=\"edge\"><title>4&#45;&gt;5</title>\r\n",
       "<path fill=\"none\" stroke=\"black\" d=\"M128.989,-222.907C117.997,-211.321 106.021,-198.698 95.0279,-187.111\"/>\r\n",
       "<polygon fill=\"black\" stroke=\"black\" points=\"97.3878,-184.513 87.9661,-179.667 92.3096,-189.331 97.3878,-184.513\"/>\r\n",
       "</g>\r\n",
       "<!-- 6 -->\r\n",
       "<g id=\"node7\" class=\"node\"><title>6</title>\r\n",
       "<path fill=\"#399de5\" stroke=\"black\" d=\"M238,-179.5C238,-179.5 143,-179.5 143,-179.5 137,-179.5 131,-173.5 131,-167.5 131,-167.5 131,-123.5 131,-123.5 131,-117.5 137,-111.5 143,-111.5 143,-111.5 238,-111.5 238,-111.5 244,-111.5 250,-117.5 250,-123.5 250,-123.5 250,-167.5 250,-167.5 250,-173.5 244,-179.5 238,-179.5\"/>\r\n",
       "<text text-anchor=\"start\" x=\"161.5\" y=\"-164.3\" font-family=\"Helvetica,sans-Serif\" font-size=\"14.00\">gini = 0.0</text>\r\n",
       "<text text-anchor=\"start\" x=\"151\" y=\"-149.3\" font-family=\"Helvetica,sans-Serif\" font-size=\"14.00\">samples = 1</text>\r\n",
       "<text text-anchor=\"start\" x=\"150\" y=\"-134.3\" font-family=\"Helvetica,sans-Serif\" font-size=\"14.00\">value = [0, 1]</text>\r\n",
       "<text text-anchor=\"start\" x=\"139\" y=\"-119.3\" font-family=\"Helvetica,sans-Serif\" font-size=\"14.00\">class = Robusta</text>\r\n",
       "</g>\r\n",
       "<!-- 4&#45;&gt;6 -->\r\n",
       "<g id=\"edge6\" class=\"edge\"><title>4&#45;&gt;6</title>\r\n",
       "<path fill=\"none\" stroke=\"black\" d=\"M175.48,-222.907C177.584,-212.204 179.862,-200.615 181.993,-189.776\"/>\r\n",
       "<polygon fill=\"black\" stroke=\"black\" points=\"185.485,-190.154 183.98,-179.667 178.617,-188.804 185.485,-190.154\"/>\r\n",
       "</g>\r\n",
       "<!-- 8 -->\r\n",
       "<g id=\"node9\" class=\"node\"><title>8</title>\r\n",
       "<path fill=\"#399de5\" stroke=\"black\" d=\"M423.5,-179.5C423.5,-179.5 325.5,-179.5 325.5,-179.5 319.5,-179.5 313.5,-173.5 313.5,-167.5 313.5,-167.5 313.5,-123.5 313.5,-123.5 313.5,-117.5 319.5,-111.5 325.5,-111.5 325.5,-111.5 423.5,-111.5 423.5,-111.5 429.5,-111.5 435.5,-117.5 435.5,-123.5 435.5,-123.5 435.5,-167.5 435.5,-167.5 435.5,-173.5 429.5,-179.5 423.5,-179.5\"/>\r\n",
       "<text text-anchor=\"start\" x=\"345.5\" y=\"-164.3\" font-family=\"Helvetica,sans-Serif\" font-size=\"14.00\">gini = 0.0</text>\r\n",
       "<text text-anchor=\"start\" x=\"323\" y=\"-149.3\" font-family=\"Helvetica,sans-Serif\" font-size=\"14.00\">samples = 1057</text>\r\n",
       "<text text-anchor=\"start\" x=\"321.5\" y=\"-134.3\" font-family=\"Helvetica,sans-Serif\" font-size=\"14.00\">value = [0, 1057]</text>\r\n",
       "<text text-anchor=\"start\" x=\"323\" y=\"-119.3\" font-family=\"Helvetica,sans-Serif\" font-size=\"14.00\">class = Robusta</text>\r\n",
       "</g>\r\n",
       "<!-- 7&#45;&gt;8 -->\r\n",
       "<g id=\"edge8\" class=\"edge\"><title>7&#45;&gt;8</title>\r\n",
       "<path fill=\"none\" stroke=\"black\" d=\"M388.867,-222.907C386.855,-212.204 384.676,-200.615 382.637,-189.776\"/>\r\n",
       "<polygon fill=\"black\" stroke=\"black\" points=\"386.024,-188.848 380.737,-179.667 379.145,-190.142 386.024,-188.848\"/>\r\n",
       "</g>\r\n",
       "<!-- 9 -->\r\n",
       "<g id=\"node10\" class=\"node\"><title>9</title>\r\n",
       "<path fill=\"#48a5e7\" stroke=\"black\" d=\"M585,-187C585,-187 466,-187 466,-187 460,-187 454,-181 454,-175 454,-175 454,-116 454,-116 454,-110 460,-104 466,-104 466,-104 585,-104 585,-104 591,-104 597,-110 597,-116 597,-116 597,-175 597,-175 597,-181 591,-187 585,-187\"/>\r\n",
       "<text text-anchor=\"start\" x=\"462\" y=\"-171.8\" font-family=\"Helvetica,sans-Serif\" font-size=\"14.00\">Sweetness ≤ &#45;3.168</text>\r\n",
       "<text text-anchor=\"start\" x=\"488\" y=\"-156.8\" font-family=\"Helvetica,sans-Serif\" font-size=\"14.00\">gini = 0.133</text>\r\n",
       "<text text-anchor=\"start\" x=\"482\" y=\"-141.8\" font-family=\"Helvetica,sans-Serif\" font-size=\"14.00\">samples = 14</text>\r\n",
       "<text text-anchor=\"start\" x=\"481\" y=\"-126.8\" font-family=\"Helvetica,sans-Serif\" font-size=\"14.00\">value = [1, 13]</text>\r\n",
       "<text text-anchor=\"start\" x=\"474\" y=\"-111.8\" font-family=\"Helvetica,sans-Serif\" font-size=\"14.00\">class = Robusta</text>\r\n",
       "</g>\r\n",
       "<!-- 7&#45;&gt;9 -->\r\n",
       "<g id=\"edge9\" class=\"edge\"><title>7&#45;&gt;9</title>\r\n",
       "<path fill=\"none\" stroke=\"black\" d=\"M441.256,-222.907C451.562,-213.56 462.612,-203.538 473.207,-193.929\"/>\r\n",
       "<polygon fill=\"black\" stroke=\"black\" points=\"475.767,-196.332 480.823,-187.021 471.065,-191.146 475.767,-196.332\"/>\r\n",
       "</g>\r\n",
       "<!-- 10 -->\r\n",
       "<g id=\"node11\" class=\"node\"><title>10</title>\r\n",
       "<path fill=\"#399de5\" stroke=\"black\" d=\"M506,-68C506,-68 411,-68 411,-68 405,-68 399,-62 399,-56 399,-56 399,-12 399,-12 399,-6 405,-0 411,-0 411,-0 506,-0 506,-0 512,-0 518,-6 518,-12 518,-12 518,-56 518,-56 518,-62 512,-68 506,-68\"/>\r\n",
       "<text text-anchor=\"start\" x=\"429.5\" y=\"-52.8\" font-family=\"Helvetica,sans-Serif\" font-size=\"14.00\">gini = 0.0</text>\r\n",
       "<text text-anchor=\"start\" x=\"415\" y=\"-37.8\" font-family=\"Helvetica,sans-Serif\" font-size=\"14.00\">samples = 13</text>\r\n",
       "<text text-anchor=\"start\" x=\"414\" y=\"-22.8\" font-family=\"Helvetica,sans-Serif\" font-size=\"14.00\">value = [0, 13]</text>\r\n",
       "<text text-anchor=\"start\" x=\"407\" y=\"-7.8\" font-family=\"Helvetica,sans-Serif\" font-size=\"14.00\">class = Robusta</text>\r\n",
       "</g>\r\n",
       "<!-- 9&#45;&gt;10 -->\r\n",
       "<g id=\"edge10\" class=\"edge\"><title>9&#45;&gt;10</title>\r\n",
       "<path fill=\"none\" stroke=\"black\" d=\"M500.552,-103.726C495.194,-94.9703 489.524,-85.7032 484.141,-76.9051\"/>\r\n",
       "<polygon fill=\"black\" stroke=\"black\" points=\"487.08,-75.0028 478.875,-68.2996 481.109,-78.6563 487.08,-75.0028\"/>\r\n",
       "</g>\r\n",
       "<!-- 11 -->\r\n",
       "<g id=\"node12\" class=\"node\"><title>11</title>\r\n",
       "<path fill=\"#e58139\" stroke=\"black\" d=\"M637,-68C637,-68 548,-68 548,-68 542,-68 536,-62 536,-56 536,-56 536,-12 536,-12 536,-6 542,-0 548,-0 548,-0 637,-0 637,-0 643,-0 649,-6 649,-12 649,-12 649,-56 649,-56 649,-62 643,-68 637,-68\"/>\r\n",
       "<text text-anchor=\"start\" x=\"563.5\" y=\"-52.8\" font-family=\"Helvetica,sans-Serif\" font-size=\"14.00\">gini = 0.0</text>\r\n",
       "<text text-anchor=\"start\" x=\"553\" y=\"-37.8\" font-family=\"Helvetica,sans-Serif\" font-size=\"14.00\">samples = 1</text>\r\n",
       "<text text-anchor=\"start\" x=\"552\" y=\"-22.8\" font-family=\"Helvetica,sans-Serif\" font-size=\"14.00\">value = [1, 0]</text>\r\n",
       "<text text-anchor=\"start\" x=\"544\" y=\"-7.8\" font-family=\"Helvetica,sans-Serif\" font-size=\"14.00\">class = Arabica</text>\r\n",
       "</g>\r\n",
       "<!-- 9&#45;&gt;11 -->\r\n",
       "<g id=\"edge11\" class=\"edge\"><title>9&#45;&gt;11</title>\r\n",
       "<path fill=\"none\" stroke=\"black\" d=\"M550.448,-103.726C555.806,-94.9703 561.476,-85.7032 566.859,-76.9051\"/>\r\n",
       "<polygon fill=\"black\" stroke=\"black\" points=\"569.891,-78.6563 572.125,-68.2996 563.92,-75.0028 569.891,-78.6563\"/>\r\n",
       "</g>\r\n",
       "</g>\r\n",
       "</svg>\r\n"
      ],
      "text/plain": [
       "<graphviz.files.Source at 0x2d30115b148>"
      ]
     },
     "execution_count": 26,
     "metadata": {},
     "output_type": "execute_result"
    }
   ],
   "source": [
    "# Create a decision tree graph\n",
    "import graphviz \n",
    "dot_data = tree.export_graphviz(\n",
    "    clf, out_file=None, \n",
    "    feature_names=df_quality.iloc[:, 1:12].columns,  \n",
    "    class_names=df_quality.Species.unique(),  \n",
    "    filled=True, rounded=True,  \n",
    "    special_characters=True)  \n",
    "\n",
    "import pydotplus\n",
    "graph = pydotplus.graph_from_dot_data(dot_data)\n",
    "graph.write_png('Images/coffee_quality_species.png')\n",
    "\n",
    "graph = graphviz.Source(dot_data)  \n",
    "graph "
   ]
  },
  {
   "cell_type": "markdown",
   "metadata": {},
   "source": [
    "The Decision Tree model gives 100% accuracy after SMOTE even if we increase the test size to 50% at Train Test Split. "
   ]
  },
  {
   "cell_type": "markdown",
   "metadata": {},
   "source": [
    "## Save the Decision Tree Classification Model "
   ]
  },
  {
   "cell_type": "code",
   "execution_count": 27,
   "metadata": {
    "ExecuteTime": {
     "end_time": "2021-02-24T14:49:55.097904Z",
     "start_time": "2021-02-24T14:49:55.083923Z"
    }
   },
   "outputs": [
    {
     "data": {
      "text/plain": [
       "['models/model_species.sav']"
      ]
     },
     "execution_count": 27,
     "metadata": {},
     "output_type": "execute_result"
    }
   ],
   "source": [
    "import joblib\n",
    "joblib.dump(clf, 'models/model_species.sav')"
   ]
  },
  {
   "cell_type": "code",
   "execution_count": 28,
   "metadata": {
    "ExecuteTime": {
     "end_time": "2021-02-24T14:49:55.286559Z",
     "start_time": "2021-02-24T14:49:55.099905Z"
    }
   },
   "outputs": [
    {
     "data": {
      "text/plain": [
       "['models/model_species_scaler.sav']"
      ]
     },
     "execution_count": 28,
     "metadata": {},
     "output_type": "execute_result"
    }
   ],
   "source": [
    "joblib.dump(X_scaler, 'models/model_species_scaler.sav')"
   ]
  },
  {
   "cell_type": "code",
   "execution_count": null,
   "metadata": {},
   "outputs": [],
   "source": []
  }
 ],
 "metadata": {
  "hide_input": false,
  "kernelspec": {
   "display_name": "Python 3",
   "language": "python",
   "name": "python3"
  },
  "language_info": {
   "codemirror_mode": {
    "name": "ipython",
    "version": 3
   },
   "file_extension": ".py",
   "mimetype": "text/x-python",
   "name": "python",
   "nbconvert_exporter": "python",
   "pygments_lexer": "ipython3",
   "version": "3.8.3"
  },
  "toc": {
   "base_numbering": 1,
   "nav_menu": {},
   "number_sections": true,
   "sideBar": true,
   "skip_h1_title": false,
   "title_cell": "Table of Contents",
   "title_sidebar": "Contents",
   "toc_cell": false,
   "toc_position": {},
   "toc_section_display": true,
   "toc_window_display": false
  },
  "varInspector": {
   "cols": {
    "lenName": 16,
    "lenType": 16,
    "lenVar": 40
   },
   "kernels_config": {
    "python": {
     "delete_cmd_postfix": "",
     "delete_cmd_prefix": "del ",
     "library": "var_list.py",
     "varRefreshCmd": "print(var_dic_list())"
    },
    "r": {
     "delete_cmd_postfix": ") ",
     "delete_cmd_prefix": "rm(",
     "library": "var_list.r",
     "varRefreshCmd": "cat(var_dic_list()) "
    }
   },
   "types_to_exclude": [
    "module",
    "function",
    "builtin_function_or_method",
    "instance",
    "_Feature"
   ],
   "window_display": false
  }
 },
 "nbformat": 4,
 "nbformat_minor": 4
}
